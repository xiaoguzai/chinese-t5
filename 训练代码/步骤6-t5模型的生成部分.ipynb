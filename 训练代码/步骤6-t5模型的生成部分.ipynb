{
 "cells": [
  {
   "cell_type": "code",
   "execution_count": 1,
   "id": "b069c2c0",
   "metadata": {},
   "outputs": [],
   "source": [
    "from mt5 import MT5Config,MT5Generation\n",
    "from utils.utils import compute_rouge\n",
    "import pickle\n",
    "import torch\n",
    "from tqdm import tqdm\n",
    "from t5tokenization import T5Tokenizer\n",
    "from pythonicforbert import get_model_function,FullTokenizer\n",
    "from loader_mt5 import load_mt5_generation_data\n",
    "from torch.utils.data import Dataset,DataLoader\n",
    "from mt5 import greedy_generate\n",
    "import json\n",
    "vocab_file = r'/home/xiaoguzai/模型/t5-copy/vocab.txt'\n",
    "vocab_size = len(open(vocab_file,'r').readlines()) \n",
    "with open('/home/xiaoguzai/模型/t5-copy/config.json','r',encoding='utf8')as fp:\n",
    "    json_data = json.load(fp)\n",
    "json_data['vocab_size'] = vocab_size\n",
    "train_feat = []\n",
    "valid_feat = []\n",
    "mt5config = MT5Config(**json_data)\n",
    "t5tokenizer = FullTokenizer(vocab_file=vocab_file)\n",
    "for num in range(10):\n",
    "    train_feat = train_feat+pickle.load(open(\"/media/xiaoguzai/WD_BLACK/毕业设计抽取摘要结果数据/train_feat_\"+str(num)+\".pkl\",\"+rb\"))\n",
    "for num in range(10):\n",
    "    valid_feat = valid_feat+pickle.load(open(\"/media/xiaoguzai/WD_BLACK/毕业设计抽取摘要结果数据/valid_feat_\"+str(num)+\".pkl\",\"+rb\"))"
   ]
  },
  {
   "cell_type": "code",
   "execution_count": 2,
   "id": "e247a3e3",
   "metadata": {},
   "outputs": [],
   "source": [
    "config_params = \\\n",
    "{\n",
    "    'train_batch_size':8,\n",
    "    'generate_abstract_max_length':500,\n",
    "    'title_max_length':130,\n",
    "    'valid_batch_size':8,\n",
    "}"
   ]
  },
  {
   "cell_type": "code",
   "execution_count": 3,
   "id": "ad2575ba",
   "metadata": {},
   "outputs": [
    {
     "name": "stdout",
     "output_type": "stream",
     "text": [
      "Done loading 305 mt5 weights from: /home/xiaoguzai/模型/t5-copy/pytorch_model.bin. Count of weights not found in the checkpoint was: [0]. Count of weights with mismatched shape: [0]\n",
      "Unused weights from checkpoint: \n",
      "\tshared.weight\n",
      "\tgenerator.prob_proj.bias\n",
      "\tgenerator.prob_proj.weight\n"
     ]
    }
   ],
   "source": [
    "model = MT5Generation(mt5config)\n",
    "model = load_mt5_generation_data(model,'/home/xiaoguzai/模型/t5-copy/pytorch_model.bin')"
   ]
  },
  {
   "cell_type": "code",
   "execution_count": 4,
   "id": "36cea7ea",
   "metadata": {},
   "outputs": [],
   "source": [
    "totallength = []\n",
    "for index in range(len(train_feat)):\n",
    "    current_token = t5tokenizer.tokenize(train_feat[index]['generate_abstract'])\n",
    "    current_id = t5tokenizer.convert_tokens_to_ids(current_token)\n",
    "    totallength.append(len(current_id))\n",
    "totalabstractlength = []\n",
    "for index in range(len(train_feat)):\n",
    "    current_token = t5tokenizer.tokenize(train_feat[index]['title'])\n",
    "    current_id = t5tokenizer.convert_tokens_to_ids(current_token)\n",
    "    totalabstractlength.append(len(current_id))"
   ]
  },
  {
   "cell_type": "code",
   "execution_count": 5,
   "id": "9ad17047",
   "metadata": {},
   "outputs": [
    {
     "data": {
      "image/png": "[encoded data removed]",
      "text/plain": [
       "<Figure size 432x288 with 1 Axes>"
      ]
     },
     "metadata": {
      "needs_background": "light"
     },
     "output_type": "display_data"
    }
   ],
   "source": [
    "import matplotlib.pyplot as plt\n",
    "a = 100\n",
    "bins = int((max(totallength)-min(totallength))/a)\n",
    "plt.hist(totallength,bins,density=1,stacked=True)\n",
    "plt.grid(True,linestyle='--',alpha=0.5)\n",
    "plt.show()"
   ]
  },
  {
   "cell_type": "code",
   "execution_count": 6,
   "id": "794536bd",
   "metadata": {},
   "outputs": [
    {
     "data": {
      "image/png": "[encoded data removed]",
      "text/plain": [
       "<Figure size 432x288 with 1 Axes>"
      ]
     },
     "metadata": {
      "needs_background": "light"
     },
     "output_type": "display_data"
    }
   ],
   "source": [
    "import matplotlib.pyplot as plt\n",
    "a = 100\n",
    "bins = int((max(totalabstractlength)-min(totalabstractlength))/a)\n",
    "plt.hist(totalabstractlength,bins,density=1,stacked=True)\n",
    "plt.grid(True,linestyle='--',alpha=0.5)\n",
    "plt.show()"
   ]
  },
  {
   "cell_type": "code",
   "execution_count": 7,
   "id": "15db54cc",
   "metadata": {},
   "outputs": [],
   "source": [
    "class dataset:\n",
    "    def __init__(self,tokenizer,train_feat):\n",
    "        self.tokenizer = tokenizer\n",
    "        self.train_feat = train_feat\n",
    "        \n",
    "    def __len__(self):\n",
    "        return len(self.train_feat)\n",
    "    \n",
    "    def __getitem__(self,index):\n",
    "        item = self.train_feat[index]\n",
    "        #item['generate_id'] = self.tokenizer.get_input_ids(item['generate_abstract'])\n",
    "        #item['title_id'] = self.tokenizer.get_input_ids(item['title'])\n",
    "        item['generate_id'] = self.tokenizer.tokenize(item['generate_abstract'])\n",
    "        item['generate_id'] = [\"[CLS]\"]+item['generate_id']+[\"[SEP]\"]\n",
    "        item['generate_id'] = self.tokenizer.convert_tokens_to_ids(item['generate_id'])\n",
    "        item['title_id'] = self.tokenizer.tokenize(item['title'])\n",
    "        #item['title_id'] = [\"[CLS]\"]+item['title_id']+[\"[SEP]\"]\n",
    "        item['title_id'] = item['title_id']+[\"[SEP]\"]\n",
    "        item['title_id'] = self.tokenizer.convert_tokens_to_ids(item['title_id'])\n",
    "        #item['generate_id'] = item['generate_id'][2:]\n",
    "        #item['title_id'] = item['title_id'][2:]\n",
    "        #'title','content','id','generate_abstract'\n",
    "        return item\n",
    "\n",
    "class Collate:\n",
    "    def __init__(self,config_params):\n",
    "        self.generate_abstract_max_length = config_params[\"generate_abstract_max_length\"]\n",
    "        self.title_max_length = config_params[\"title_max_length\"]\n",
    "        \n",
    "    def __call__(self,batch_token):\n",
    "        #'title','content','id','generate_abstract'\n",
    "        token_result = []\n",
    "        label_result = []\n",
    "        abstract_result = []\n",
    "        original_content_result = []\n",
    "        generate_abstract_batch_length = max([len(token['generate_id']) for token in batch_token])\n",
    "        generate_abstract_batch_length = min(generate_abstract_batch_length,self.generate_abstract_max_length)\n",
    "        for index in range(len(batch_token)):\n",
    "            if len(batch_token[index]['generate_id']) > generate_abstract_batch_length:\n",
    "                batch_token[index]['generate_id'] = batch_token[index]['generate_id'][:generate_abstract_batch_length-1]+[batch_token[index]['generate_id'][-1]]\n",
    "            else:\n",
    "                for index1 in range(len(batch_token[index]['generate_id']),generate_abstract_batch_length):\n",
    "                    batch_token[index]['generate_id'].append(0)\n",
    "            token_result.append(batch_token[index]['generate_id'])\n",
    "            abstract_result.append(batch_token[index]['title'])\n",
    "            original_content_result.append(batch_token[index]['generate_abstract'])\n",
    "        \n",
    "        title_abstract_batch_length = max([len(token['title_id']) for token in batch_token])\n",
    "        for index in range(len(batch_token)):\n",
    "            if len(batch_token[index]['title_id']) > title_abstract_batch_length:\n",
    "                batch_token[index]['title_id'] = batch_token[index]['title_id'][:title_abstract_batch_length-1]+[batch_token[index]['title_id'][-1]]\n",
    "            else:\n",
    "                for index1 in range(len(batch_token[index]['title_id']),title_abstract_batch_length):\n",
    "                    batch_token[index]['title_id'].append(-100)\n",
    "            label_result.append(batch_token[index]['title_id'])\n",
    "        \n",
    "        token_result = torch.tensor(token_result)\n",
    "        label_result = torch.tensor(label_result)\n",
    "        return token_result,label_result,abstract_result,original_content_result"
   ]
  },
  {
   "cell_type": "code",
   "execution_count": 8,
   "id": "b6c924fe",
   "metadata": {},
   "outputs": [
    {
     "name": "stdout",
     "output_type": "stream",
     "text": [
      "epoch = 0\n"
     ]
    },
    {
     "name": "stderr",
     "output_type": "stream",
     "text": [
      "100%|███████████████████████████████████████| 2500/2500 [09:29<00:00,  4.39it/s]\n",
      "  0%|                                                   | 0/625 [00:00<?, ?it/s]Building prefix dict from the default dictionary ...\n",
      "Loading model from cache /tmp/jieba.cache\n",
      "Loading model cost 0.300 seconds.\n",
      "Prefix dict has been built successfully.\n",
      "100%|███████████████████████████████████████| 625/625 [1:04:05<00:00,  6.15s/it]\n"
     ]
    },
    {
     "name": "stdout",
     "output_type": "stream",
     "text": [
      "totalrouge1 = 0.408021\n",
      "totalrouge2 = 0.209313\n",
      "totalrougel = 0.369143\n",
      "totalpoint = 0.312986\n",
      "epoch = 1\n"
     ]
    },
    {
     "name": "stderr",
     "output_type": "stream",
     "text": [
      "100%|███████████████████████████████████████| 2500/2500 [09:29<00:00,  4.39it/s]\n",
      "100%|███████████████████████████████████████| 625/625 [1:00:40<00:00,  5.82s/it]\n"
     ]
    },
    {
     "name": "stdout",
     "output_type": "stream",
     "text": [
      "totalrouge1 = 0.415145\n",
      "totalrouge2 = 0.216668\n",
      "totalrougel = 0.376189\n",
      "totalpoint = 0.320172\n",
      "epoch = 2\n"
     ]
    },
    {
     "name": "stderr",
     "output_type": "stream",
     "text": [
      "100%|███████████████████████████████████████| 2500/2500 [09:32<00:00,  4.37it/s]\n",
      "100%|█████████████████████████████████████████| 625/625 [56:55<00:00,  5.47s/it]\n"
     ]
    },
    {
     "name": "stdout",
     "output_type": "stream",
     "text": [
      "totalrouge1 = 0.421933\n",
      "totalrouge2 = 0.219298\n",
      "totalrougel = 0.381460\n",
      "totalpoint = 0.324690\n",
      "epoch = 3\n"
     ]
    },
    {
     "name": "stderr",
     "output_type": "stream",
     "text": [
      "100%|███████████████████████████████████████| 2500/2500 [09:34<00:00,  4.35it/s]\n",
      "100%|█████████████████████████████████████████| 625/625 [55:49<00:00,  5.36s/it]\n"
     ]
    },
    {
     "name": "stdout",
     "output_type": "stream",
     "text": [
      "totalrouge1 = 0.425072\n",
      "totalrouge2 = 0.221821\n",
      "totalrougel = 0.384055\n",
      "totalpoint = 0.327365\n",
      "epoch = 4\n"
     ]
    },
    {
     "name": "stderr",
     "output_type": "stream",
     "text": [
      "100%|███████████████████████████████████████| 2500/2500 [09:41<00:00,  4.30it/s]\n",
      "100%|█████████████████████████████████████████| 625/625 [56:14<00:00,  5.40s/it]\n"
     ]
    },
    {
     "name": "stdout",
     "output_type": "stream",
     "text": [
      "totalrouge1 = 0.426496\n",
      "totalrouge2 = 0.223137\n",
      "totalrougel = 0.384838\n",
      "totalpoint = 0.328489\n",
      "epoch = 5\n"
     ]
    },
    {
     "name": "stderr",
     "output_type": "stream",
     "text": [
      "100%|███████████████████████████████████████| 2500/2500 [10:09<00:00,  4.10it/s]\n",
      "100%|█████████████████████████████████████████| 625/625 [53:58<00:00,  5.18s/it]\n"
     ]
    },
    {
     "name": "stdout",
     "output_type": "stream",
     "text": [
      "totalrouge1 = 0.430227\n",
      "totalrouge2 = 0.226917\n",
      "totalrougel = 0.388852\n",
      "totalpoint = 0.332353\n",
      "epoch = 6\n"
     ]
    },
    {
     "name": "stderr",
     "output_type": "stream",
     "text": [
      "100%|███████████████████████████████████████| 2500/2500 [10:09<00:00,  4.10it/s]\n",
      "100%|█████████████████████████████████████████| 625/625 [54:40<00:00,  5.25s/it]\n"
     ]
    },
    {
     "name": "stdout",
     "output_type": "stream",
     "text": [
      "totalrouge1 = 0.430880\n",
      "totalrouge2 = 0.225681\n",
      "totalrougel = 0.387785\n",
      "totalpoint = 0.331562\n",
      "epoch = 7\n"
     ]
    },
    {
     "name": "stderr",
     "output_type": "stream",
     "text": [
      "100%|███████████████████████████████████████| 2500/2500 [10:08<00:00,  4.11it/s]\n",
      "100%|█████████████████████████████████████████| 625/625 [52:28<00:00,  5.04s/it]\n"
     ]
    },
    {
     "name": "stdout",
     "output_type": "stream",
     "text": [
      "totalrouge1 = 0.435603\n",
      "totalrouge2 = 0.231319\n",
      "totalrougel = 0.393706\n",
      "totalpoint = 0.337131\n",
      "epoch = 8\n"
     ]
    },
    {
     "name": "stderr",
     "output_type": "stream",
     "text": [
      "100%|███████████████████████████████████████| 2500/2500 [10:08<00:00,  4.11it/s]\n",
      "100%|█████████████████████████████████████████| 625/625 [53:02<00:00,  5.09s/it]\n"
     ]
    },
    {
     "name": "stdout",
     "output_type": "stream",
     "text": [
      "totalrouge1 = 0.436028\n",
      "totalrouge2 = 0.230988\n",
      "totalrougel = 0.393383\n",
      "totalpoint = 0.336954\n",
      "epoch = 9\n"
     ]
    },
    {
     "name": "stderr",
     "output_type": "stream",
     "text": [
      "100%|███████████████████████████████████████| 2500/2500 [10:10<00:00,  4.09it/s]\n",
      "100%|█████████████████████████████████████████| 625/625 [52:32<00:00,  5.04s/it]\n"
     ]
    },
    {
     "name": "stdout",
     "output_type": "stream",
     "text": [
      "totalrouge1 = 0.438402\n",
      "totalrouge2 = 0.233888\n",
      "totalrougel = 0.397070\n",
      "totalpoint = 0.340064\n"
     ]
    }
   ],
   "source": [
    "train_params = {'batch_size':config_params[\"train_batch_size\"],'shuffle':True,\\\n",
    "                'num_workers':1,'pin_memory':True,\\\n",
    "                'collate_fn':Collate(config_params=config_params)}\n",
    "train_loader = DataLoader(dataset(t5tokenizer,train_feat),**train_params)\n",
    "valid_params = {'batch_size':config_params[\"valid_batch_size\"],'shuffle':False,\\\n",
    "                'num_workers':4,'pin_memory':True,\\\n",
    "                'collate_fn':Collate(config_params=config_params)}\n",
    "valid_loader = DataLoader(dataset(t5tokenizer,valid_feat),**valid_params)\n",
    "device = torch.device(\"cuda:0\" if torch.cuda.is_available() else \"cpu\")\n",
    "optimizer = torch.optim.AdamW(model.parameters(),lr=1e-5)\n",
    "bestpoint = 0.0\n",
    "totalnumber = 0\n",
    "scaler = torch.cuda.amp.GradScaler()\n",
    "for epoch in range(10):\n",
    "    print('epoch = %d'%epoch)\n",
    "    model.to(device)\n",
    "    \n",
    "    model.train()\n",
    "    for batch_token,batch_label,batch_abstract,batch_content in tqdm(train_loader):\n",
    "        batch_token = batch_token.to(device)\n",
    "        batch_label = batch_label.to(device)\n",
    "        \n",
    "        optimizer.zero_grad()\n",
    "        with torch.cuda.amp.autocast():\n",
    "            result,loss = model(input_ids=batch_token,\\\n",
    "                            labels=batch_label,generate=False)\n",
    "        scaler.scale(loss).backward()\n",
    "        scaler.step(optimizer)\n",
    "        scaler.update()\n",
    "    \n",
    "    totalrouge1 = 0.0\n",
    "    totalrouge2 = 0.0\n",
    "    totalrougel = 0.0\n",
    "    totalpoint = 0.0\n",
    "    totalnumber = 0\n",
    "    model.eval()\n",
    "    for batch_token,batch_label,batch_abstract,batch_content in tqdm(valid_loader):\n",
    "        batch_token = batch_token.to(device)\n",
    "        batch_label = batch_label.to(device)\n",
    "        result_id = greedy_generate(model,mt5config,\\\n",
    "                                   batch_token,labels=None,max_length=120)\n",
    "        result_id = result_id.tolist()\n",
    "        for index in range(len(batch_abstract)):\n",
    "            result_content = t5tokenizer.convert_ids_to_tokens(result_id[index])\n",
    "            result_content = ''.join(result_content)\n",
    "            result_content = result_content.replace(\"[SEP]\",\"\")\n",
    "            result_content = result_content.replace(\"[PAD]\",\"\")\n",
    "            \n",
    "            currentpoint = compute_rouge(result_content,batch_abstract[index])\n",
    "            valid_feat[totalnumber]['valid_text' ] = result_content\n",
    "            #totalpoint = totalpoint+currentpoint\n",
    "            totalrouge1 = totalrouge1+currentpoint['rouge-1']\n",
    "            totalrouge2 = totalrouge2+currentpoint['rouge-2']\n",
    "            totalrougel = totalrougel+currentpoint['rouge-l']\n",
    "            totalpoint = 0.2*totalrouge1+0.4*totalrouge2+0.4*totalrougel\n",
    "            totalnumber = totalnumber+1\n",
    "    totalrouge1 = totalrouge1/totalnumber\n",
    "    totalrouge2 = totalrouge2/totalnumber\n",
    "    totalrougel = totalrougel/totalnumber\n",
    "    totalpoint = totalpoint/totalnumber\n",
    "    print('totalrouge1 = %f'%totalrouge1)\n",
    "    print('totalrouge2 = %f'%totalrouge2)\n",
    "    print('totalrougel = %f'%totalrougel)\n",
    "    print('totalpoint = %f'%totalpoint)\n",
    "    if totalpoint > bestpoint:\n",
    "        bestpoint = totalpoint\n",
    "        torch.save(model,'generate_best_score='+str(bestpoint)+'.pth')"
   ]
  },
  {
   "cell_type": "code",
   "execution_count": 11,
   "id": "18f13fe0",
   "metadata": {},
   "outputs": [],
   "source": [
    "import codecs\n",
    "with codecs.open(\"/home/xiaoguzai/程序/毕业设计/毕业设计数据/valid_generate_result.json\",'w',encoding='utf-8') as obj:\n",
    "    json.dump(valid_feat, obj, ensure_ascii=False)"
   ]
  },
  {
   "cell_type": "code",
   "execution_count": null,
   "id": "93bb579f",
   "metadata": {},
   "outputs": [],
   "source": []
  }
 ],
 "metadata": {
  "kernelspec": {
   "display_name": "Python 3 (ipykernel)",
   "language": "python",
   "name": "python3"
  },
  "language_info": {
   "codemirror_mode": {
    "name": "ipython",
    "version": 3
   },
   "file_extension": ".py",
   "mimetype": "text/x-python",
   "name": "python",
   "nbconvert_exporter": "python",
   "pygments_lexer": "ipython3",
   "version": "3.9.5"
  }
 },
 "nbformat": 4,
 "nbformat_minor": 5
}
